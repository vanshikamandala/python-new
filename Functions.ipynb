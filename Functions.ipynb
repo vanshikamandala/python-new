{
  "nbformat": 4,
  "nbformat_minor": 0,
  "metadata": {
    "colab": {
      "name": "Functions.ipynb",
      "provenance": [],
      "include_colab_link": true
    },
    "kernelspec": {
      "name": "python3",
      "display_name": "Python 3"
    },
    "language_info": {
      "name": "python"
    }
  },
  "cells": [
    {
      "cell_type": "markdown",
      "metadata": {
        "id": "view-in-github",
        "colab_type": "text"
      },
      "source": [
        "<a href=\"https://colab.research.google.com/github/vanshikamandala/python-new/blob/module-2/Functions.ipynb\" target=\"_parent\"><img src=\"https://colab.research.google.com/assets/colab-badge.svg\" alt=\"Open In Colab\"/></a>"
      ]
    },
    {
      "cell_type": "markdown",
      "source": [
        "**Functions**\n",
        "\n"
      ],
      "metadata": {
        "id": "ObP3TfRTW9Hg"
      }
    },
    {
      "cell_type": "code",
      "source": [
        "def rocky():\n",
        "  print(\"Voilence... Voilence...\")\n",
        "  print(\"Voilence... I Dont Like I Avoid..\")\n",
        "  print(\"But Voilence Likes Me... I Cant Avoid..\")\n",
        "rocky()"
      ],
      "metadata": {
        "colab": {
          "base_uri": "https://localhost:8080/"
        },
        "id": "Q_Y9-QbHX885",
        "outputId": "5c6992ef-4d11-458a-e3d8-ee1d3bf20c05"
      },
      "execution_count": null,
      "outputs": [
        {
          "output_type": "stream",
          "name": "stdout",
          "text": [
            "Voilence... Voilence...\n",
            "Voilence... I Dont Like I Avoid..\n",
            "But Voilence Likes Me... I Cant Avoid..\n"
          ]
        }
      ]
    },
    {
      "cell_type": "code",
      "source": [
        "def rrr(name1,name2):\n",
        "  print(name1 + name2+\" thakukuntupovale\")\n",
        "rrr(\"Ram Charan \", \"Ntr\")  "
      ],
      "metadata": {
        "colab": {
          "base_uri": "https://localhost:8080/"
        },
        "id": "8TeugK9WY2Kg",
        "outputId": "c84c7728-2913-45e6-d964-afe85c7c897d"
      },
      "execution_count": null,
      "outputs": [
        {
          "output_type": "stream",
          "name": "stdout",
          "text": [
            "Ram Charan Ntr thakukuntupovale\n"
          ]
        }
      ]
    },
    {
      "cell_type": "code",
      "source": [
        "def pushpa(hero):\n",
        "  print(hero + \" endhi ami nachinana neku\")\n",
        "pushpa(\" bulleti pushparaju\")"
      ],
      "metadata": {
        "colab": {
          "base_uri": "https://localhost:8080/"
        },
        "id": "OHvg61aQaRB4",
        "outputId": "77582f27-1a5a-4a15-8d05-5286c18e9786"
      },
      "execution_count": null,
      "outputs": [
        {
          "output_type": "stream",
          "name": "stdout",
          "text": [
            " bulleti pushparaju endhi ami nachinana neku\n"
          ]
        }
      ]
    },
    {
      "cell_type": "code",
      "source": [
        "def voting(name,age,gender):\n",
        "  print(\"Age = \",age,\"Gender = \",gender,\"Name = \",name)\n",
        "voting(\"Rocky\",\"Male\",\"20\")"
      ],
      "metadata": {
        "colab": {
          "base_uri": "https://localhost:8080/"
        },
        "id": "The-9cUFav0o",
        "outputId": "77b3a901-ae12-4219-ed2f-5e2eff02ef92"
      },
      "execution_count": null,
      "outputs": [
        {
          "output_type": "stream",
          "name": "stdout",
          "text": [
            "Age =  Male Gender =  20 Name =  Rocky\n"
          ]
        }
      ]
    },
    {
      "cell_type": "code",
      "source": [
        "def voting(age,name,gender):\n",
        "  print(f\"Person Details : \\n\\nAge = {age}\\nGender = {gender}\\nName = {name}\")\n",
        "  if (age>=18):\n",
        "    print(f\"{name} is Eligible for Voting\")\n",
        "  else:\n",
        "    print(f\"{name} is Not Eligible For Voting\")\n",
        "age=int(input(\"enter age: \"))\n",
        "name = str(input(\"enter name: \"))\n",
        "gender = str(input(\"Enter Gender: \"))\n",
        "voting(age,name,gender)"
      ],
      "metadata": {
        "colab": {
          "base_uri": "https://localhost:8080/"
        },
        "id": "_nFOw68Ideq4",
        "outputId": "7915ba74-68e5-4771-8425-3e3921b9378f"
      },
      "execution_count": null,
      "outputs": [
        {
          "output_type": "stream",
          "name": "stdout",
          "text": [
            "enter age: 18\n",
            "enter name: harsha\n",
            "Enter Gender: male\n",
            "Person Details : \n",
            "\n",
            "Age = 18\n",
            "Gender =male\n",
            "Name = harsha\n",
            "harsha is Eligible for Voting\n"
          ]
        }
      ]
    },
    {
      "cell_type": "markdown",
      "source": [
        "Python Bulitin **Functions**\n",
        "\n",
        "\n"
      ],
      "metadata": {
        "id": "u-NDUreolKBX"
      }
    },
    {
      "cell_type": "code",
      "source": [
        "#abs func\n",
        "a= 25.6\n",
        "n= abs(a)\n",
        "print(n)\n",
        "#all func\n",
        "b={0,0,1}\n",
        "print(all(b))\n"
      ],
      "metadata": {
        "id": "hQxeP2QWfKrp",
        "colab": {
          "base_uri": "https://localhost:8080/"
        },
        "outputId": "b697504f-bb81-4c2c-cbc7-7a4c8d13724d"
      },
      "execution_count": null,
      "outputs": [
        {
          "output_type": "stream",
          "name": "stdout",
          "text": [
            "25.6\n",
            "False\n"
          ]
        }
      ]
    },
    {
      "cell_type": "code",
      "source": [
        "def my_function(name = \"Harsha\"):\n",
        "  print(\"I am from \" + name)\n",
        "\n",
        "my_function(\"Swde\")\n",
        "my_function(\"harsh\")\n",
        "my_function()\n",
        "my_function(\"Bro\")\n"
      ],
      "metadata": {
        "colab": {
          "base_uri": "https://localhost:8080/"
        },
        "id": "IGO4zjXVHB0u",
        "outputId": "a8d4e912-d53f-4516-db45-c0c4d2c775bf"
      },
      "execution_count": null,
      "outputs": [
        {
          "output_type": "stream",
          "name": "stdout",
          "text": [
            "I am from Swde\n",
            "I am from harsh\n",
            "I am from Harsha\n",
            "I am from Bro\n"
          ]
        }
      ]
    },
    {
      "cell_type": "code",
      "source": [
        "def my_function(name):\n",
        "  for x in name:\n",
        "    print(x)\n",
        "\n",
        "name = [\"swe\", \"sri\", \"udan\"]\n",
        "\n",
        "my_function(name)"
      ],
      "metadata": {
        "colab": {
          "base_uri": "https://localhost:8080/"
        },
        "id": "4Q8pIFsoHWT_",
        "outputId": "b6326c36-102f-4d7f-eb5d-8785c6f83104"
      },
      "execution_count": null,
      "outputs": [
        {
          "output_type": "stream",
          "name": "stdout",
          "text": [
            "swe\n",
            "sri\n",
            "udan\n"
          ]
        }
      ]
    },
    {
      "cell_type": "code",
      "source": [
        "def ncr(n,r):\n",
        "  nf,rf,sf=1,1,1\n",
        "  for i in range(1,n+1):\n",
        "    nf=nf*i\n",
        "  for i in range(1,r+1):\n",
        "    rf=rf*i\n",
        "  for i in range(1,n-r+1):\n",
        "    sf=sf*i\n",
        "  ncr=nf/(sf*rf)\n",
        "  return ncr\n",
        "n=int(input(\"enter a: \"))\n",
        "r=int(input(\"enter r: \"))\n",
        "print(ncr(n,r))"
      ],
      "metadata": {
        "colab": {
          "base_uri": "https://localhost:8080/"
        },
        "id": "E4J7g_bOOEfz",
        "outputId": "5dd74521-ab11-4b93-aced-d60014352216"
      },
      "execution_count": null,
      "outputs": [
        {
          "output_type": "stream",
          "name": "stdout",
          "text": [
            "enter a: 4\n",
            "enter r: 2\n",
            "6.0\n"
          ]
        }
      ]
    },
    {
      "cell_type": "code",
      "source": [
        "#Program to print a specified list after removing the 0th, 4th and 5th elements.\n",
        "#Sample List : ['Red', 'Green', 'White', 'Black', 'Pink', 'Yellow']\n",
        "#Expected Output : ['Green', 'White', 'Black']\n",
        "def del1(a):\n",
        "  a.pop(0)\n",
        "  a.pop(3)\n",
        "  a.pop(3)\n",
        "  return a\n",
        "list = ['Red', 'Green', 'White', 'Black', 'Pink', 'Yellow']\n",
        "print(del1(list))"
      ],
      "metadata": {
        "colab": {
          "base_uri": "https://localhost:8080/"
        },
        "id": "7quSzVLgNqZc",
        "outputId": "a5f7fb2c-82fd-4d90-b9fc-272cd83f9315"
      },
      "execution_count": null,
      "outputs": [
        {
          "output_type": "stream",
          "name": "stdout",
          "text": [
            "['Green', 'White', 'Black']\n"
          ]
        }
      ]
    },
    {
      "cell_type": "code",
      "source": [
        "#Program to get the difference between the two lists\n",
        "def diff(a,b):\n",
        "  x=sum(a)\n",
        "  y=sum(b)\n",
        "  z=x-y\n",
        "  return z\n",
        "a=[1,2,3,4,5]\n",
        "b=[1,2,3,4]   \n",
        "diff(a,b)"
      ],
      "metadata": {
        "colab": {
          "base_uri": "https://localhost:8080/"
        },
        "id": "H5gi-MLaSFY0",
        "outputId": "daa42518-2d03-4aa5-a7d6-0cb9dccd7822"
      },
      "execution_count": null,
      "outputs": [
        {
          "output_type": "execute_result",
          "data": {
            "text/plain": [
              "5"
            ]
          },
          "metadata": {},
          "execution_count": 31
        }
      ]
    },
    {
      "cell_type": "code",
      "source": [
        ""
      ],
      "metadata": {
        "id": "rUMMw1EFS25q"
      },
      "execution_count": null,
      "outputs": []
    }
  ]
}