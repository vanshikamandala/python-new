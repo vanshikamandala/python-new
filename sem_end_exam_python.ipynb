{
  "nbformat": 4,
  "nbformat_minor": 0,
  "metadata": {
    "colab": {
      "name": "sem end exam python",
      "provenance": [],
      "authorship_tag": "ABX9TyMSQGnuDgacRWV5utEAsVbm",
      "include_colab_link": true
    },
    "kernelspec": {
      "name": "python3",
      "display_name": "Python 3"
    },
    "language_info": {
      "name": "python"
    }
  },
  "cells": [
    {
      "cell_type": "markdown",
      "metadata": {
        "id": "view-in-github",
        "colab_type": "text"
      },
      "source": [
        "<a href=\"https://colab.research.google.com/github/vanshikamandala/python-new/blob/module-1/sem_end_exam_python.ipynb\" target=\"_parent\"><img src=\"https://colab.research.google.com/assets/colab-badge.svg\" alt=\"Open In Colab\"/></a>"
      ]
    },
    {
      "cell_type": "code",
      "execution_count": null,
      "metadata": {
        "id": "vRWJVECrsM_7"
      },
      "outputs": [],
      "source": [
        "#display five subjects marks and grade of the student\n"
      ]
    }
  ]
}