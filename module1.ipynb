{
  "nbformat": 4,
  "nbformat_minor": 0,
  "metadata": {
    "colab": {
      "name": "module1.ipynb",
      "provenance": [],
      "collapsed_sections": [],
      "include_colab_link": true
    },
    "kernelspec": {
      "name": "python3",
      "display_name": "Python 3"
    },
    "language_info": {
      "name": "python"
    }
  },
  "cells": [
    {
      "cell_type": "markdown",
      "metadata": {
        "id": "view-in-github",
        "colab_type": "text"
      },
      "source": [
        "<a href=\"https://colab.research.google.com/github/vanshikamandala/python-new/blob/module-1/module1.ipynb\" target=\"_parent\"><img src=\"https://colab.research.google.com/assets/colab-badge.svg\" alt=\"Open In Colab\"/></a>"
      ]
    },
    {
      "cell_type": "markdown",
      "source": [
        "# Accept input from user and store it in variable and print the value"
      ],
      "metadata": {
        "id": "yvRM_t9nSpHp"
      }
    },
    {
      "cell_type": "code",
      "source": [
        "a = int(input(\"enter number\"))\n",
        "print(a)"
      ],
      "metadata": {
        "colab": {
          "base_uri": "https://localhost:8080/"
        },
        "id": "C414y8Z8SvCK",
        "outputId": "b9ce6ed5-62db-4d07-c5f1-e36d44d0aedd"
      },
      "execution_count": null,
      "outputs": [
        {
          "output_type": "stream",
          "name": "stdout",
          "text": [
            "enter number45\n",
            "45\n"
          ]
        }
      ]
    },
    {
      "cell_type": "markdown",
      "source": [
        "# Use of print statements and use of (.format )for printing different data types."
      ],
      "metadata": {
        "id": "FtsNvuMsTZ5w"
      }
    },
    {
      "cell_type": "code",
      "source": [
        "a= \"an name is {name}, and i  in {subject},class\".format(name = \"aravind\", subject = \"python\")\n",
        "print(a)"
      ],
      "metadata": {
        "colab": {
          "base_uri": "https://localhost:8080/"
        },
        "id": "q3C-tn2xTegw",
        "outputId": "e8913fd1-d0d8-4afa-ac39-293041e99b19"
      },
      "execution_count": null,
      "outputs": [
        {
          "output_type": "stream",
          "name": "stdout",
          "text": [
            "an name is aravind, and i  in python,class\n"
          ]
        }
      ]
    },
    {
      "cell_type": "markdown",
      "source": [
        "# Take 2 numbers as user input and add, multiply, divide, subtract, remainder and print\n",
        "the output (Same operations on floating point input as well)"
      ],
      "metadata": {
        "id": "7fLsNonZWJxY"
      }
    },
    {
      "cell_type": "code",
      "source": [
        "a = int(input(\"enter the first number\"))\n",
        "b = int(input(\"enter the second number\"))\n",
        "add= a+b\n",
        "sub=a-b\n",
        "mul=a*b\n",
        "div=a/b\n",
        "rem=a%b\n",
        "print(\"addition= \", add)\n",
        "print(\"subtract= \", sub)\n",
        "print(\"multiply= \", mul)\n",
        "print(\"division= \", div)\n",
        "print(\"reminder= \", rem)\n"
      ],
      "metadata": {
        "colab": {
          "base_uri": "https://localhost:8080/"
        },
        "id": "jYkrWz38WP64",
        "outputId": "dce58f21-5924-45ff-e697-5af4470eb3b0"
      },
      "execution_count": null,
      "outputs": [
        {
          "output_type": "stream",
          "name": "stdout",
          "text": [
            "enter the first number45\n",
            "enter the second number54\n",
            "addition=  99\n",
            "subtract=  -9\n",
            "multiply=  2430\n",
            "division=  0.8333333333333334\n",
            "reminder=  45\n"
          ]
        }
      ]
    },
    {
      "cell_type": "markdown",
      "source": [
        "# Conversion of one unit to another (such as hours to minutes, miles to km and etc)"
      ],
      "metadata": {
        "id": "TfbpgOAUYKz2"
      }
    },
    {
      "cell_type": "code",
      "source": [
        "a = float(input(\"enter hours\"))\n",
        "print(\"hours to minutes= \",a*60)\n",
        "b = float(input(\"enter minutes\"))\n",
        "print(\"minutes to sec= \",a*60)\n",
        "c = float(input(\"enter miles= \"))\n",
        "print(\"miles to km= \",b*1.5)\n"
      ],
      "metadata": {
        "colab": {
          "base_uri": "https://localhost:8080/"
        },
        "id": "gA8brwZoYQdX",
        "outputId": "60725e00-9f7f-446b-a6a4-8f438b2f4b6a"
      },
      "execution_count": null,
      "outputs": [
        {
          "output_type": "stream",
          "name": "stdout",
          "text": [
            "enter hours67\n",
            "hours to minutes=  4020.0\n",
            "enter minutes76\n",
            "minutes to sec=  4020.0\n",
            "enter miles= 78\n",
            "miles to km=  114.0\n"
          ]
        }
      ]
    },
    {
      "cell_type": "markdown",
      "source": [
        "# Usage of mathematical functions in python like math.ceil, floor, fabs, fmod, trunc, pow, sqrt etc."
      ],
      "metadata": {
        "id": "hOCmLdK2ZJau"
      }
    },
    {
      "cell_type": "code",
      "source": [
        "import math\n",
        "a = float(input(\"enter a number\"))\n",
        "b = float(input(\"enter second number\"))\n",
        "print(math.ceil(a))\n",
        "print(math.floor(a))\n",
        "print(math.fabs(a))\n",
        "print(math.fmod(a,b))\n",
        "print(math.trunc(a))\n",
        "print(math.pow(2,2))\n",
        "print(math.sqrt(44))"
      ],
      "metadata": {
        "colab": {
          "base_uri": "https://localhost:8080/"
        },
        "id": "z_L5JQN7ZQ8G",
        "outputId": "c0c4d8fa-f94e-4a5f-bdc9-fbded7cc2689"
      },
      "execution_count": null,
      "outputs": [
        {
          "output_type": "stream",
          "name": "stdout",
          "text": [
            "enter a number67\n",
            "enter second number78\n",
            "67\n",
            "67\n",
            "67.0\n",
            "67.0\n",
            "67\n",
            "4.0\n",
            "6.6332495807108\n"
          ]
        }
      ]
    },
    {
      "cell_type": "markdown",
      "source": [
        "# Building a mathematical calculator that can perform operations according to user input.Use decision making statement"
      ],
      "metadata": {
        "id": "PBhdCbLwcL2O"
      }
    },
    {
      "cell_type": "code",
      "source": [
        "a =int(input(\"enter first number \"))\n",
        "b = int(input(\"enter second number\"))\n",
        "c =str(input(\"enter operation to be performed \"))\n",
        "if(c==\"add\"):\n",
        "  print(a+b)\n",
        "elif(c==\"sub\"):\n",
        "  print(a-b)\n",
        "elif(c==\"mul\"):\n",
        "  print(a*b)\n",
        "elif(c==\"div\"):\n",
        "  print(a/b)\n",
        "elif(c==\"rem\"):\n",
        "  print(a%b)\n",
        "else:\n",
        "  print(\"enter valid operation\")"
      ],
      "metadata": {
        "colab": {
          "base_uri": "https://localhost:8080/"
        },
        "id": "FSVGxHc6cSaV",
        "outputId": "205ab3b6-5eda-4932-8042-93dc50406c5f"
      },
      "execution_count": null,
      "outputs": [
        {
          "output_type": "stream",
          "name": "stdout",
          "text": [
            "enter first number 5\n",
            "enter second number6\n",
            "enter operation to be performed add\n",
            "11\n"
          ]
        }
      ]
    },
    {
      "cell_type": "markdown",
      "source": [
        "# Accepting 5 different subject marks from user and displaying the grade of the student"
      ],
      "metadata": {
        "id": "nRybolgSfOad"
      }
    },
    {
      "cell_type": "code",
      "source": [
        "a=int(input(\"enter the 1st sub marks\"))\n",
        "b=int(input(\"enter the 2nd sub marks\"))\n",
        "c=int(input(\"enter the 3rd sub marks\"))\n",
        "d=int(input(\"enter the 4th sub marks\"))\n",
        "e=int(input(\"enter the 5th sub marks\"))\n",
        "if(a>b and a>c and a>d and a>e):\n",
        "  print(\"a is highest \")\n",
        "elif(b>a and b>c and b>d and b>e ):\n",
        "  print(\"b is highest\")\n",
        "elif(c>a and c>b and c>d and c>e):\n",
        "  print(\"c is highest \")\n",
        "elif(d>a and d>b and d>c and d>e):\n",
        "  print(\"d is highest\")\n",
        "else:\n",
        "      print(\"e is greater\")\n",
        "sum=a+b+c+d+e\n",
        "avg=(a+b+c+d+e)/5\n",
        "print(\"the sum is\",sum)\n",
        "print(\"the avg\",avg)\n"
      ],
      "metadata": {
        "colab": {
          "base_uri": "https://localhost:8080/"
        },
        "id": "4ZTNvPL9fWIN",
        "outputId": "ace881d6-8af9-4c0e-86b1-76f773acac26"
      },
      "execution_count": null,
      "outputs": [
        {
          "output_type": "stream",
          "name": "stdout",
          "text": [
            "enter the 1st sub marks86\n",
            "enter the 2nd sub marks86\n",
            "enter the 3rd sub marks96\n",
            "enter the 4th sub marks86\n",
            "enter the 5th sub marks85\n",
            "c is highest \n",
            "the sum is 439\n",
            "the avg 87.8\n"
          ]
        }
      ]
    },
    {
      "cell_type": "markdown",
      "source": [
        "#Printing all even numbers, odd numbers, count of even numbers, count of odd numbers within a given range."
      ],
      "metadata": {
        "id": "iMIC70l5iifs"
      }
    },
    {
      "cell_type": "code",
      "source": [
        "evencount=0\n",
        "oddcount=0\n",
        "a=int(input())\n",
        "b=int(input())\n",
        "for even in range(a,b):\n",
        "  if(even%2==0):\n",
        "    print(even)\n",
        "evencount=evencount+1\n",
        "print('even count')\n",
        "print(evencount)\n",
        "print('odd')\n",
        "for odd in range(a,b):\n",
        "  if(odd%2!=0):\n",
        "    print(odd)\n",
        "    oddcount=oddcount+1\n",
        "print('odd count')\n",
        "print(oddcount) "
      ],
      "metadata": {
        "colab": {
          "base_uri": "https://localhost:8080/"
        },
        "id": "aq3M4-ZCiytL",
        "outputId": "a5325a08-cf9b-4318-a65e-c67798579f0e"
      },
      "execution_count": null,
      "outputs": [
        {
          "output_type": "stream",
          "name": "stdout",
          "text": [
            "65\n",
            "54\n",
            "even count\n",
            "1\n",
            "odd\n",
            "odd count\n",
            "0\n"
          ]
        }
      ]
    },
    {
      "cell_type": "markdown",
      "source": [
        "#Compute the factorial of a given number"
      ],
      "metadata": {
        "id": "M6r1FWgE2hMy"
      }
    },
    {
      "cell_type": "code",
      "source": [
        "n = input(\"Enter a number: \")\n",
        "factorial = 1\n",
        "if int(n) >= 1:\n",
        "  for i in range (1,int(n)+1):\n",
        "   factorial = factorial * i\n",
        "print(\"fact\")"
      ],
      "metadata": {
        "colab": {
          "base_uri": "https://localhost:8080/"
        },
        "id": "39cLoL4c2zas",
        "outputId": "283fc41e-80d1-45c6-af89-90e04506576b"
      },
      "execution_count": null,
      "outputs": [
        {
          "output_type": "stream",
          "name": "stdout",
          "text": [
            "Enter a number: 2 \n",
            "fact\n"
          ]
        }
      ]
    },
    {
      "cell_type": "markdown",
      "source": [
        "#Compute GCD of two given numbers"
      ],
      "metadata": {
        "id": "5AT3csqz6fID"
      }
    },
    {
      "cell_type": "code",
      "source": [
        "import math\n",
        "print(math.gcd(3, 6))"
      ],
      "metadata": {
        "colab": {
          "base_uri": "https://localhost:8080/"
        },
        "id": "8pQVN2wH6tzb",
        "outputId": "e1b9b21d-8e2c-4cd0-bf3e-2d1815c0c906"
      },
      "execution_count": null,
      "outputs": [
        {
          "output_type": "stream",
          "name": "stdout",
          "text": [
            "3\n"
          ]
        }
      ]
    },
    {
      "cell_type": "markdown",
      "source": [
        "#Generate Fibonacci series up to N numbers"
      ],
      "metadata": {
        "id": "tZwEAI7GBEn8"
      }
    },
    {
      "cell_type": "code",
      "source": [
        "num1=0\n",
        "num2=1\n",
        "series=0\n",
        "num=int(input())\n",
        "for i in range(num):\n",
        " print(series,end=' ')\n",
        "num1=num2\n",
        "num2=series\n",
        "series=num1+num2"
      ],
      "metadata": {
        "colab": {
          "base_uri": "https://localhost:8080/"
        },
        "id": "fnkHQuX9BLFP",
        "outputId": "3bec8606-1b74-49e1-de6d-6bd91cdea8ca"
      },
      "execution_count": null,
      "outputs": [
        {
          "output_type": "stream",
          "name": "stdout",
          "text": [
            "5\n",
            "0 0 0 0 0 "
          ]
        }
      ]
    },
    {
      "cell_type": "markdown",
      "source": [
        "#Check whether the given input is a) palindrome b) strong c) perfect\n",
        "#a.palindrome"
      ],
      "metadata": {
        "id": "F02ZjG5WBVf9"
      }
    },
    {
      "cell_type": "code",
      "source": [
        " Num = int(input(\"Enter a value:\"))\n",
        "Temp = num\n",
        "Rev = 0\n",
        "while(num > 0):\n",
        "    dig = num % 10\n",
        "    revrev = rev * 10 + dig\n",
        "    numnum = num // 10\n",
        "if(temp == rev):\n",
        "    print(\"This value is a palindrome number!\")\n",
        "else:\n",
        "    print(\"This value is not a palindrome number!\")"
      ],
      "metadata": {
        "id": "aQWgdiILDLK1"
      },
      "execution_count": null,
      "outputs": []
    },
    {
      "cell_type": "markdown",
      "source": [
        "#b.strong number"
      ],
      "metadata": {
        "id": "8JjZzvsylg-7"
      }
    },
    {
      "cell_type": "code",
      "source": [
        "Num = int(input(\"Number: \"))\n",
        "Sum = 0\n",
        "Temp = Num\n",
        "while(Temp > 0):\n",
        "    Factorial = 1\n",
        "    i = 1\n",
        "Reminder = Temp % 10\n",
        "while(i <= Reminder):\n",
        "    Factorial = Factorial * i \n",
        "    i = i + 1\n",
        "print(\"\\n Factorial of %d = %d\" %(Reminder, Factorial))\n",
        "Sum = Sum + Factorial\n",
        "Temp = Temp // 10\n",
        "print(\"\\n Sum of Factorials of a Given Number %d = %d\" %(Num, Sum))\n",
        "if (Sum == Num):\n",
        "    print(\" %d is a Strong Number\" %Num)\n",
        "else:\n",
        "    print(\" %d is not a Strong Number\" %Num)\n",
        "#c.perfect number\n",
        "N=int(input())\n",
        "sum=0\n",
        "for i in range(1,N):\n",
        "   if(N%1==0):\n",
        "sum=sum+1\n",
        "if(N==sum):\n",
        "print(N,'is a perfect number')\n",
        "else:\n",
        "print(N,'is not a perfect number')"
      ],
      "metadata": {
        "id": "-eLEEr4eFp3Z"
      },
      "execution_count": null,
      "outputs": []
    },
    {
      "cell_type": "markdown",
      "source": [
        "#c.perfect number\n"
      ],
      "metadata": {
        "id": "Wvya4fMHODAB"
      }
    },
    {
      "cell_type": "code",
      "source": [
        "\n",
        "N=int(input())\n",
        "sum=0\n",
        "for i in range(1,N):\n",
        "              if(N%1==0):\n",
        "                sum=sum+1\n",
        "if(N==sum):\n",
        "  print(N,'is a perfect number')\n",
        "else:\n",
        "  print(N,'is not a perfect number')"
      ],
      "metadata": {
        "id": "3B2yRtSWOJVM"
      },
      "execution_count": null,
      "outputs": []
    },
    {
      "cell_type": "markdown",
      "source": [
        "#Compute compound interest using loop for a certain principal and interest amount"
      ],
      "metadata": {
        "id": "hRp0lEyaO5SO"
      }
    },
    {
      "cell_type": "code",
      "source": [
        "principal=float(input('enter principal value'))\n",
        "interest=float(input('enter interest rate'))\n",
        "years=int(input())\n",
        "n = principle * ((1+interest)*years)\n",
        "for n in range(principal,total):\n",
        "  print(n)\n",
        "total=n+total"
      ],
      "metadata": {
        "id": "secYw8Q_PALU"
      },
      "execution_count": null,
      "outputs": []
    }
  ]
}