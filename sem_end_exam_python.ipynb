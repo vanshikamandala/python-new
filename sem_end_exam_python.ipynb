{
  "nbformat": 4,
  "nbformat_minor": 0,
  "metadata": {
    "colab": {
      "name": "sem end exam python",
      "provenance": [],
      "authorship_tag": "ABX9TyNJvJXdvFMmgliYymjtx5rx",
      "include_colab_link": true
    },
    "kernelspec": {
      "name": "python3",
      "display_name": "Python 3"
    },
    "language_info": {
      "name": "python"
    }
  },
  "cells": [
    {
      "cell_type": "markdown",
      "metadata": {
        "id": "view-in-github",
        "colab_type": "text"
      },
      "source": [
        "<a href=\"https://colab.research.google.com/github/vanshikamandala/python-new/blob/module-4/sem_end_exam_python.ipynb\" target=\"_parent\"><img src=\"https://colab.research.google.com/assets/colab-badge.svg\" alt=\"Open In Colab\"/></a>"
      ]
    },
    {
      "cell_type": "code",
      "execution_count": null,
      "metadata": {
        "colab": {
          "base_uri": "https://localhost:8080/"
        },
        "id": "vRWJVECrsM_7",
        "outputId": "999820f4-d4c1-43fa-e0cb-490916584748"
      },
      "outputs": [
        {
          "output_type": "stream",
          "name": "stdout",
          "text": [
            "Enter marks of the first subject: 56\n",
            "Enter marks of the second subject: 34\n",
            "Enter marks of the third subject: 77\n",
            "Enter marks of the fourth subject: 45\n",
            "Enter marks of the fifth subject: 23\n",
            "Grade: F\n"
          ]
        }
      ],
      "source": [
        "#display five subjects marks and grade of the student\n",
        "a=int(input(\"Enter marks of the first subject: \"))\n",
        "b=int(input(\"Enter marks of the second subject: \"))\n",
        "c=int(input(\"Enter marks of the third subject: \"))\n",
        "d=int(input(\"Enter marks of the fourth subject: \"))\n",
        "e=int(input(\"Enter marks of the fifth subject: \"))\n",
        "avg=(a+b+c+d+e)/5\n",
        "if(avg>=90):\n",
        "    print(\"Grade: A\")\n",
        "elif(avg>=80 and avg<90):\n",
        "    print(\"Grade: B\")\n",
        "elif(avg>=70 and avg<80):\n",
        "    print(\"Grade: C\")\n",
        "elif(avg>=60 and avg<70):\n",
        "    print(\"Grade: D\")\n",
        "else:\n",
        "    print(\"Grade: F\")\n"
      ]
    },
    {
      "cell_type": "code",
      "source": [
        "#palindrome or not\n",
        "num=int(input(\"Enter a number:\"))\n",
        "temp=num\n",
        "rev=0\n",
        "while(num>0):\n",
        "    dig=num%10\n",
        "    rev=rev*10+dig\n",
        "    num=num//10\n",
        "if(temp==rev):\n",
        "    print(\"The number is palindrome\")\n",
        "else:\n",
        "    print(\"Not a palindrome\")"
      ],
      "metadata": {
        "colab": {
          "base_uri": "https://localhost:8080/"
        },
        "id": "npKwmn1VuBm3",
        "outputId": "75f4b0f4-d4c9-43a0-d39c-ff2133b3e329"
      },
      "execution_count": null,
      "outputs": [
        {
          "output_type": "stream",
          "name": "stdout",
          "text": [
            "Enter a number:121\n",
            "The number is palindrome\n"
          ]
        }
      ]
    },
    {
      "cell_type": "code",
      "source": [
        "#generate a graph of pie chart by taking six subjects display the marks in graph\n",
        "import matplotlib.pyplot as plt\n",
        "import numpy as np\n",
        "subj=[\"maths\",\"physics\",\"chemistry\",\"english\",\"computer\",\"hindi\"]\n",
        "marks=[20,30,40,50,60,70]\n",
        "fig = plt.figure(figsize =(10, 7))\n",
        "plt.pie(marks,labels=subj)\n",
        "plt.show()\n"
      ],
      "metadata": {
        "colab": {
          "base_uri": "https://localhost:8080/",
          "height": 411
        },
        "id": "-oPDRcFbuSnm",
        "outputId": "83ef83a8-9a29-4820-c132-7bf93d1d0e22"
      },
      "execution_count": null,
      "outputs": [
        {
          "output_type": "display_data",
          "data": {
            "text/plain": [
              "<Figure size 720x504 with 1 Axes>"
            ],
            "image/png": "[encoded data removed]"
          },
          "metadata": {}
        }
      ]
    },
    {
      "cell_type": "code",
      "source": [
        "#fibanocci series or not\n",
        "def a(n):\n",
        "  if n<=1:\n",
        "    return n\n",
        "  else:\n",
        "    return(a(n-1)+a(n-2))\n",
        "    if nterms<0:\n",
        "      print(\"fibanocci\")\n",
        "    else:\n",
        "      print(\"not a fibanocci\")\n",
        "      for i in range(nterms):\n",
        "        print(a)"
      ],
      "metadata": {
        "id": "siJka0sDxe_O"
      },
      "execution_count": 1,
      "outputs": []
    },
    {
      "cell_type": "code",
      "source": [
        "#given a list of numbers write a python codeto print all even numbers in the list\n",
        "list1 = [1,2,3,4,5,6,7,8,9,10]\n",
        "for num in list1:\n",
        "   # check\n",
        "   if num % 2 == 0:\n",
        "      print(num, end = \" \")"
      ],
      "metadata": {
        "id": "iVjrIjLaSliT",
        "outputId": "a9d9798c-86ac-4ef5-e93d-a38649703aa5",
        "colab": {
          "base_uri": "https://localhost:8080/"
        }
      },
      "execution_count": 11,
      "outputs": [
        {
          "output_type": "stream",
          "name": "stdout",
          "text": [
            "2 4 6 8 10 "
          ]
        }
      ]
    }
  ]
}