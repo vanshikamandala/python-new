{
  "nbformat": 4,
  "nbformat_minor": 0,
  "metadata": {
    "colab": {
      "name": "assignment 3",
      "provenance": [],
      "collapsed_sections": [],
      "include_colab_link": true
    },
    "kernelspec": {
      "name": "python3",
      "display_name": "Python 3"
    },
    "language_info": {
      "name": "python"
    }
  },
  "cells": [
    {
      "cell_type": "markdown",
      "metadata": {
        "id": "view-in-github",
        "colab_type": "text"
      },
      "source": [
        "<a href=\"https://colab.research.google.com/github/vanshikamandala/python-new/blob/module-3/assignment_3.ipynb\" target=\"_parent\"><img src=\"https://colab.research.google.com/assets/colab-badge.svg\" alt=\"Open In Colab\"/></a>"
      ]
    },
    {
      "cell_type": "markdown",
      "source": [
        "1.To print odd no in given range"
      ],
      "metadata": {
        "id": "7FSBjOAGdqh-"
      }
    },
    {
      "cell_type": "code",
      "source": [
        "a=45\n",
        "b=87\n",
        "for i in range(45,87):\n",
        "  if i%2!=0:\n",
        "    print(i)\n"
      ],
      "metadata": {
        "colab": {
          "base_uri": "https://localhost:8080/"
        },
        "id": "KxSUjY6ud1js",
        "outputId": "3bd1a2a5-b18f-4a18-aa53-6d3b07f71b68"
      },
      "execution_count": null,
      "outputs": [
        {
          "output_type": "stream",
          "name": "stdout",
          "text": [
            "45\n",
            "47\n",
            "49\n",
            "51\n",
            "53\n",
            "55\n",
            "57\n",
            "59\n",
            "61\n",
            "63\n",
            "65\n",
            "67\n",
            "69\n",
            "71\n",
            "73\n",
            "75\n",
            "77\n",
            "79\n",
            "81\n",
            "83\n",
            "85\n"
          ]
        }
      ]
    },
    {
      "cell_type": "markdown",
      "source": [
        "2.To print prime no in given range"
      ],
      "metadata": {
        "id": "HTi4jmK5ecMm"
      }
    },
    {
      "cell_type": "code",
      "source": [
        "def prime(a,b):\n",
        "  for i in range(a,b):\n",
        "    k=0\n",
        "    for j in range(1,i):\n",
        "      if i%j==0:\n",
        "        k+=1\n",
        "    if k==1:\n",
        "      print(i)\n",
        "prime(int(input()),int(input()))\n",
        "\n"
      ],
      "metadata": {
        "colab": {
          "base_uri": "https://localhost:8080/"
        },
        "id": "uNLUzEp6ei3N",
        "outputId": "955b64c8-14f7-4910-d2a4-ed046e559abc"
      },
      "execution_count": null,
      "outputs": [
        {
          "output_type": "stream",
          "name": "stdout",
          "text": [
            "1\n",
            "10\n",
            "2\n",
            "3\n",
            "5\n",
            "7\n"
          ]
        }
      ]
    },
    {
      "cell_type": "markdown",
      "source": [
        "3.TO PRINT no of days in a month"
      ],
      "metadata": {
        "id": "p6UFvsEYfNEu"
      }
    },
    {
      "cell_type": "code",
      "source": [
        "mon=int(input())\n",
        "if mon==1 or mon==3 or mon==5 or mon==7 or mon==8 or mon==10 or mon==12:\n",
        "  print(\"31\") \n",
        "elif mon==4 or mon==6 or mon==9 or mon==8 or mon==11 : \n",
        "    print(\"30\") \n",
        "elif mon==2: \n",
        "    print(\"28\")    \n",
        "else:\n",
        "  print(\"not found\")    \n"
      ],
      "metadata": {
        "colab": {
          "base_uri": "https://localhost:8080/"
        },
        "id": "j-8XnMR3fW3l",
        "outputId": "9e198410-40d7-4037-d24c-b6ca00f20a4b"
      },
      "execution_count": null,
      "outputs": [
        {
          "output_type": "stream",
          "name": "stdout",
          "text": [
            "13\n",
            "not found\n"
          ]
        }
      ]
    },
    {
      "cell_type": "markdown",
      "source": [
        "4.To print even length"
      ],
      "metadata": {
        "id": "QmV7A7Hnk822"
      }
    },
    {
      "cell_type": "code",
      "source": [
        "word=str(input())\n",
        "word=word.split(' ')\n",
        "for a in word:\n",
        "  if len(a)%2==0:\n",
        "    print(a) \n",
        "\n"
      ],
      "metadata": {
        "colab": {
          "base_uri": "https://localhost:8080/"
        },
        "id": "r-v7yrqok9f_",
        "outputId": "89cfce0c-ffd9-4c8b-b35b-c3e1ab4d2072"
      },
      "execution_count": null,
      "outputs": [
        {
          "output_type": "stream",
          "name": "stdout",
          "text": [
            "hello word\n",
            "word\n"
          ]
        }
      ]
    },
    {
      "cell_type": "markdown",
      "source": [
        "5.To print 1st and last capital\n"
      ],
      "metadata": {
        "id": "0iMJTKFwmfof"
      }
    },
    {
      "cell_type": "code",
      "source": [
        "String = input('')\n",
        "String = String[0:1].upper() + String[1:len(String)-1] + String[len(String)-1:len(String)].upper()\n",
        "print(String)"
      ],
      "metadata": {
        "id": "D5alO1sdm6f2",
        "colab": {
          "base_uri": "https://localhost:8080/"
        },
        "outputId": "f75c56f1-29a1-4f3f-b767-484f6efcfbd4"
      },
      "execution_count": null,
      "outputs": [
        {
          "output_type": "stream",
          "name": "stdout",
          "text": [
            "i am rocky\n",
            "I am rockY\n"
          ]
        }
      ]
    },
    {
      "cell_type": "markdown",
      "source": [
        "6.To convert multiple integers to single integers"
      ],
      "metadata": {
        "id": "SmntpseOpP2A"
      }
    },
    {
      "cell_type": "code",
      "source": [
        "a=[10,13,15,17]\n",
        "for i in a:\n",
        "  print(i,end=\"\")"
      ],
      "metadata": {
        "colab": {
          "base_uri": "https://localhost:8080/"
        },
        "id": "OmrDt4WDpYvX",
        "outputId": "88ed4a71-5f79-4936-a8c9-fbbbef233422"
      },
      "execution_count": null,
      "outputs": [
        {
          "output_type": "stream",
          "name": "stdout",
          "text": [
            "10131517"
          ]
        }
      ]
    },
    {
      "cell_type": "markdown",
      "source": [
        "7.Write a program to print power of no "
      ],
      "metadata": {
        "id": "pKiUdZ41KA9p"
      }
    },
    {
      "cell_type": "code",
      "source": [
        "a=int(input())\n",
        "b=int(input())\n",
        "c=pow(a,b)\n",
        "c"
      ],
      "metadata": {
        "colab": {
          "base_uri": "https://localhost:8080/"
        },
        "id": "ASSK20o5KIip",
        "outputId": "3baf913b-2c11-4526-f9b8-5a38b468f99b"
      },
      "execution_count": null,
      "outputs": [
        {
          "name": "stdout",
          "output_type": "stream",
          "text": [
            "2\n",
            "3\n"
          ]
        },
        {
          "output_type": "execute_result",
          "data": {
            "text/plain": [
              "8"
            ]
          },
          "metadata": {},
          "execution_count": 1
        }
      ]
    },
    {
      "cell_type": "markdown",
      "source": [
        "8.To sort tupple by total digits input\n",
        "list=[(3,4,6,723),(1,2)(134,234,34)]\n",
        "\n",
        "*   List item\n",
        "*   List item\n",
        "\n"
      ],
      "metadata": {
        "id": "kwnxuyqDKJOR"
      }
    },
    {
      "cell_type": "markdown",
      "source": [
        ""
      ],
      "metadata": {
        "id": "XbFqDmZEKXXq"
      }
    },
    {
      "cell_type": "code",
      "source": [
        "list=[(3,4,6,723),(1,2),(134,234,34)]\n",
        "list.sort()\n",
        "print(list)"
      ],
      "metadata": {
        "id": "w1pUqyZuKXtS",
        "colab": {
          "base_uri": "https://localhost:8080/"
        },
        "outputId": "730623f5-ea44-4866-8560-401713e58905"
      },
      "execution_count": null,
      "outputs": [
        {
          "output_type": "stream",
          "name": "stdout",
          "text": [
            "[(1, 2), (3, 4, 6, 723), (134, 234, 34)]\n"
          ]
        }
      ]
    },
    {
      "cell_type": "markdown",
      "source": [
        "9.Take 5 subject marks from student and display the grade of student"
      ],
      "metadata": {
        "id": "VhbKtR-lKrlr"
      }
    },
    {
      "cell_type": "code",
      "source": [
        "s1=int(input())\n",
        "s2=int(input())\n",
        "s3=int(input())\n",
        "s4=int(input())\n",
        "s5=int(input())\n",
        "avg=(s1+s2+s3+s4+s5)/5\n",
        "if avg>90:\n",
        "  print(\"A+\")\n",
        "elif 80<avg<90:\n",
        "  print(\"A\") \n",
        "elif 70<avg<80:\n",
        "  print(\"B\") \n",
        "elif 60<avg<70:\n",
        "  print(\"C\") \n",
        "elif 50<avg<60:\n",
        "  print(\"D\") \n",
        "elif 40<avg<50:\n",
        "  print(\"E\")    \n",
        "else:\n",
        "  print(\"F\")        "
      ],
      "metadata": {
        "id": "3o_dwdfgLHzR",
        "colab": {
          "base_uri": "https://localhost:8080/"
        },
        "outputId": "6446b153-6568-45b3-a62f-efa5b4d64846"
      },
      "execution_count": null,
      "outputs": [
        {
          "output_type": "stream",
          "name": "stdout",
          "text": [
            "90\n",
            "89\n",
            "92\n",
            "82\n",
            "83\n",
            "A\n"
          ]
        }
      ]
    },
    {
      "cell_type": "markdown",
      "source": [
        "10.Write a python program that prints 1 if all no are in ascending order"
      ],
      "metadata": {
        "id": "EBIJ58-VLIS6"
      }
    },
    {
      "cell_type": "code",
      "source": [
        "a=int(input())\n",
        "b=int(input())\n",
        "c=int(input())\n",
        "if a<b<c :\n",
        "  print(\"1\")\n",
        "else:\n",
        "  print(\"0\")  "
      ],
      "metadata": {
        "id": "vX2qflO-LoA6",
        "colab": {
          "base_uri": "https://localhost:8080/"
        },
        "outputId": "62564a8d-b3cb-4f28-bf6d-dd1e9efaacb5"
      },
      "execution_count": null,
      "outputs": [
        {
          "output_type": "stream",
          "name": "stdout",
          "text": [
            "2\n",
            "6\n",
            "9\n",
            "1\n"
          ]
        }
      ]
    },
    {
      "cell_type": "markdown",
      "source": [
        "11.Check give no is perfect or not"
      ],
      "metadata": {
        "id": "dTXqobNkLoKZ"
      }
    },
    {
      "cell_type": "code",
      "source": [
        "n = int(input())\n",
        "sum = 0\n",
        "for i in range(1, n):\n",
        "    if(n % i == 0):\n",
        "        sum = sum + i\n",
        "if (sum == n):\n",
        "    print(\"The number is a Perfect number\")\n",
        "else:\n",
        "    print(\"The number is not a Perfect number\")"
      ],
      "metadata": {
        "id": "zQfqedKvMH0p",
        "colab": {
          "base_uri": "https://localhost:8080/"
        },
        "outputId": "54bc472e-c8ca-4c28-fdf9-e4a18c31528a"
      },
      "execution_count": null,
      "outputs": [
        {
          "output_type": "stream",
          "name": "stdout",
          "text": [
            "6\n",
            "The number is a Perfect number\n"
          ]
        }
      ]
    },
    {
      "cell_type": "markdown",
      "source": [
        "12.Find Gcd of given no with and without recrusion"
      ],
      "metadata": {
        "id": "Nc5xlRwyMIOR"
      }
    },
    {
      "cell_type": "code",
      "source": [
        "def gcd(a,b):\n",
        "    if(b==0):\n",
        "        return a\n",
        "    else:\n",
        "        return gcd(b,a%b)\n",
        "a=int(input(\"Enter first number:\"))\n",
        "b=int(input(\"Enter second number:\"))\n",
        "GCD=gcd(a,b)\n",
        "print(\"GCD is: \")\n",
        "print(GCD)                "
      ],
      "metadata": {
        "id": "HAgCEC72MqH6",
        "colab": {
          "base_uri": "https://localhost:8080/"
        },
        "outputId": "d774ae54-3a8b-425a-ad84-380746042a58"
      },
      "execution_count": null,
      "outputs": [
        {
          "output_type": "stream",
          "name": "stdout",
          "text": [
            "Enter first number:12\n",
            "Enter second number:24\n",
            "GCD is: \n",
            "12\n"
          ]
        }
      ]
    },
    {
      "cell_type": "markdown",
      "source": [
        "13.print sum of even digits in a no"
      ],
      "metadata": {
        "id": "Q6ObtiEFMqX7"
      }
    },
    {
      "cell_type": "code",
      "source": [
        "a=str(input())\n",
        "sum=0\n",
        "for i in a:\n",
        "  if int(i)%2==0:\n",
        "    sum=sum+int(i)\n",
        "print(sum)"
      ],
      "metadata": {
        "id": "TFxpynm7N1UT",
        "colab": {
          "base_uri": "https://localhost:8080/"
        },
        "outputId": "59165c4d-8ed7-4125-c65d-8f847bbf5238"
      },
      "execution_count": null,
      "outputs": [
        {
          "output_type": "stream",
          "name": "stdout",
          "text": [
            "1234\n",
            "6\n"
          ]
        }
      ]
    },
    {
      "cell_type": "markdown",
      "source": [
        "14.Calculate the  sum of squares of digits of a no."
      ],
      "metadata": {
        "id": "Cy1CTHf_M_pa"
      }
    },
    {
      "cell_type": "code",
      "source": [
        "num = int(input())\n",
        "sum = 0\n",
        "while num!=0:\n",
        "    rem = num%10\n",
        "    sqr = rem*rem\n",
        "    sum = sum+sqr\n",
        "    num = int(num/10)\n",
        "print(sum)"
      ],
      "metadata": {
        "id": "685Xb0-xNWSh",
        "colab": {
          "base_uri": "https://localhost:8080/"
        },
        "outputId": "2cb17f4c-1a5b-429f-ff58-2f4f89b56081"
      },
      "execution_count": null,
      "outputs": [
        {
          "output_type": "stream",
          "name": "stdout",
          "text": [
            "123\n",
            "14\n"
          ]
        }
      ]
    },
    {
      "cell_type": "markdown",
      "source": [
        "15.given a string is s=abcdefcba how many times i "
      ],
      "metadata": {
        "id": "1bw2Cbw4NWrh"
      }
    },
    {
      "cell_type": "code",
      "source": [
        "a=str(input())\n",
        "b=a[::-1]\n",
        "l=int((len(a)/2))\n",
        "c=0\n",
        "for i in range(0,l):\n",
        "  if a[i]==b[i]:\n",
        "    c=c+1\n",
        "print(c)"
      ],
      "metadata": {
        "colab": {
          "base_uri": "https://localhost:8080/"
        },
        "id": "uhK6gZ6eN2AB",
        "outputId": "958fa97f-3d1d-4194-f211-53ba320b28ba"
      },
      "execution_count": null,
      "outputs": [
        {
          "output_type": "stream",
          "name": "stdout",
          "text": [
            "abcdbc\n",
            "1\n"
          ]
        }
      ]
    },
    {
      "cell_type": "markdown",
      "source": [
        "16.print count front back matches"
      ],
      "metadata": {
        "id": "CQuJqOUJN2Jh"
      }
    },
    {
      "cell_type": "code",
      "source": [
        "a=str(input())\n",
        "b=a[::-1]\n",
        "l=int((len(a)/2))\n",
        "c=0\n",
        "for i in range(0,l):\n",
        "  if a[i]==b[i]:\n",
        "    c=c+1\n",
        "print(c)"
      ],
      "metadata": {
        "colab": {
          "base_uri": "https://localhost:8080/"
        },
        "id": "MgAoHpfmOmNq",
        "outputId": "0667c24c-d64b-4ee3-ac81-801b72034e50"
      },
      "execution_count": null,
      "outputs": [
        {
          "output_type": "stream",
          "name": "stdout",
          "text": [
            "abcdfghjdcba\n",
            "4\n"
          ]
        }
      ]
    },
    {
      "cell_type": "markdown",
      "source": [
        "17.repeat the n no for n times [1,2,2,3,3,3,4,4,4,4]"
      ],
      "metadata": {
        "id": "uDwW0xWAOmYz"
      }
    },
    {
      "cell_type": "code",
      "source": [
        "n=int(input())\n",
        "a=0\n",
        "for x in range(0,n):\n",
        "  if a<x:\n",
        "   print(x*x)\n",
        "  "
      ],
      "metadata": {
        "id": "hYwXTFsTOzbC",
        "colab": {
          "base_uri": "https://localhost:8080/"
        },
        "outputId": "73592ec5-5f60-43f8-c8f8-57c91434ec13"
      },
      "execution_count": null,
      "outputs": [
        {
          "output_type": "stream",
          "name": "stdout",
          "text": [
            "3\n",
            "1\n",
            "4\n"
          ]
        }
      ]
    },
    {
      "cell_type": "markdown",
      "source": [
        "18.print no of vowels and consonants"
      ],
      "metadata": {
        "id": "HEaSMf7qOzqK"
      }
    },
    {
      "cell_type": "code",
      "source": [
        "a=input()\n",
        "v=0\n",
        "c=0\n",
        "for i in a:\n",
        "  if i=='a' or i=='e' or i=='o'or i=='u'or i=='i':\n",
        "    v+=1\n",
        "  else:\n",
        "    c+=1\n",
        "print(v)\n",
        "print(c)\n",
        "\n",
        "\n"
      ],
      "metadata": {
        "colab": {
          "base_uri": "https://localhost:8080/"
        },
        "id": "4xPlyVs3PXji",
        "outputId": "d56e5eec-8a44-4c52-ea5f-19102f05af0d"
      },
      "execution_count": null,
      "outputs": [
        {
          "output_type": "stream",
          "name": "stdout",
          "text": [
            "asdfgh69584j5\n",
            "1\n",
            "12\n"
          ]
        }
      ]
    },
    {
      "cell_type": "markdown",
      "source": [
        "19.given two integers A and B .if  a<b print all no in ascending or else in descending"
      ],
      "metadata": {
        "id": "LJlGHGwMPXvi"
      }
    },
    {
      "cell_type": "code",
      "source": [
        "a=int(input())\n",
        "b=int(input())\n",
        "if a<b:\n",
        "  for i in range(a,b):\n",
        "    print(i)\n",
        "else:\n",
        "  for i in range(a,b,-1):\n",
        "    print(i)    "
      ],
      "metadata": {
        "colab": {
          "base_uri": "https://localhost:8080/"
        },
        "id": "emxTzfKnPr_S",
        "outputId": "e01df8e4-56b8-4cfe-8091-90efbe01016c"
      },
      "execution_count": null,
      "outputs": [
        {
          "output_type": "stream",
          "name": "stdout",
          "text": [
            "2\n",
            "9\n",
            "2\n",
            "3\n",
            "4\n",
            "5\n",
            "6\n",
            "7\n",
            "8\n"
          ]
        }
      ]
    },
    {
      "cell_type": "markdown",
      "source": [
        "20.fin max of 3 no\n"
      ],
      "metadata": {
        "id": "dSdX1TAePsOL"
      }
    },
    {
      "cell_type": "code",
      "source": [
        "a=int(input())\n",
        "b=int(input())\n",
        "c=int(input())\n",
        "if (a >= b) and (a >= c):\n",
        "   largest = a\n",
        "elif (b >= a) and (b >= c):\n",
        "   largest = b\n",
        "else:\n",
        "   largest = c\n",
        "\n",
        "print(\"The largest number is\", largest)"
      ],
      "metadata": {
        "id": "v9cQedUPPu-S",
        "colab": {
          "base_uri": "https://localhost:8080/"
        },
        "outputId": "37170bee-1951-4814-8e4b-4927228629b2"
      },
      "execution_count": null,
      "outputs": [
        {
          "output_type": "stream",
          "name": "stdout",
          "text": [
            "23\n",
            "56\n",
            "32\n",
            "The largest number is 56\n"
          ]
        }
      ]
    },
    {
      "cell_type": "markdown",
      "source": [
        "21.write a program to count no of strings where the string length is 2 or more and 1st and last is same\n",
        " "
      ],
      "metadata": {
        "id": "Uex3RWOWPvE0"
      }
    },
    {
      "cell_type": "code",
      "source": [
        "def match(words):\n",
        "  d=0\n",
        "  for x in words:\n",
        "    if len(word) > 1 and x[0] == x[-1]:\n",
        "      d+=1\n",
        "  return d\n",
        "  print(match(['abc','xyz','aba','1221']))\n"
      ],
      "metadata": {
        "id": "o2beqMceQi6x"
      },
      "execution_count": null,
      "outputs": []
    },
    {
      "cell_type": "markdown",
      "source": [
        "22.days as input,no of round trips ,cal the tot distance if tot dis is <40000m print need  to work hard"
      ],
      "metadata": {
        "id": "9VZDNKCtQjFx"
      }
    },
    {
      "cell_type": "code",
      "source": [
        "days=int(input())\n",
        "no=int(input(\"enter no of meters\"))\n",
        "dis=days*no\n",
        "if dis<40000:\n",
        "  print(\"need to work more\")\n",
        "else:\n",
        "  print(\"well done\")  "
      ],
      "metadata": {
        "id": "4mUOOef8RdxU"
      },
      "execution_count": null,
      "outputs": []
    },
    {
      "cell_type": "markdown",
      "source": [
        "23.given a list of students names i l and a charcter and display the names whose name are given in capital. "
      ],
      "metadata": {
        "id": "gIYuCLFmR5KF"
      }
    },
    {
      "cell_type": "code",
      "source": [
        "test_str =['hello','Hello']\n",
        "print(\"The original string is : \" + str(test_str))\n",
        "for ele in test_str:\n",
        "   if ele.isupper():\n",
        "     print(ele)"
      ],
      "metadata": {
        "id": "bTjfxup-Sdw7",
        "colab": {
          "base_uri": "https://localhost:8080/"
        },
        "outputId": "0ca72148-c960-4fc5-f11d-48e7aeab7487"
      },
      "execution_count": null,
      "outputs": [
        {
          "output_type": "stream",
          "name": "stdout",
          "text": [
            "The original string is : ['hello', 'Hello']\n"
          ]
        }
      ]
    },
    {
      "cell_type": "markdown",
      "source": [
        "24.given a list of city names whose len is greater than given len\n",
        "['Delhi','Mumbai','Goa']"
      ],
      "metadata": {
        "id": "iGMDXsG0Sd5U"
      }
    },
    {
      "cell_type": "code",
      "source": [
        "list=['delhi','Mumbai','Goa']\n",
        "l=int(input())\n",
        "for x in list:\n",
        "  if len(x)>l:\n",
        "    print(x)"
      ],
      "metadata": {
        "id": "W2YhghJVTDeX",
        "colab": {
          "base_uri": "https://localhost:8080/"
        },
        "outputId": "bb5a356d-f331-4b2b-9a9f-da6aa7578c6d"
      },
      "execution_count": null,
      "outputs": [
        {
          "output_type": "stream",
          "name": "stdout",
          "text": [
            "3\n",
            "delhi\n",
            "Mumbai\n"
          ]
        }
      ]
    }
  ]
}