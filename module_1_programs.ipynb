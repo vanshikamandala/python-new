{
  "cells": [
    {
      "cell_type": "markdown",
      "metadata": {
        "id": "view-in-github",
        "colab_type": "text"
      },
      "source": [
        "<a href=\"https://colab.research.google.com/github/vanshikamandala/python-new/blob/module-1/module_1_programs.ipynb\" target=\"_parent\"><img src=\"https://colab.research.google.com/assets/colab-badge.svg\" alt=\"Open In Colab\"/></a>"
      ]
    },
    {
      "cell_type": "code",
      "execution_count": null,
      "metadata": {
        "colab": {
          "base_uri": "https://localhost:8080/"
        },
        "id": "W48QZU8KugOW",
        "outputId": "4fbb132f-0971-4d50-c9bf-00b5eb01412b"
      },
      "outputs": [
        {
          "name": "stdout",
          "output_type": "stream",
          "text": [
            "10\n"
          ]
        }
      ],
      "source": [
        "#accept input from user and store it in variable and print the value\n",
        "a=10\n",
        "print(a)\n"
      ]
    },
    {
      "cell_type": "code",
      "execution_count": null,
      "metadata": {
        "colab": {
          "base_uri": "https://localhost:8080/"
        },
        "id": "5ZlZIQeqvESA",
        "outputId": "b2f148a7-3ba2-48e5-9834-46f2e829a114"
      },
      "outputs": [
        {
          "name": "stdout",
          "output_type": "stream",
          "text": [
            "type of a: <class 'int'>\n",
            "type of b: <class 'float'>\n",
            "type of c: <class 'complex'>\n"
          ]
        }
      ],
      "source": [
        "#use of print statements and us of (.format) for printing different data types\n",
        "a=10\n",
        "print(\"type of a:\",type(a))\n",
        "b=10.5\n",
        "print(\"type of b:\",type(b))\n",
        "c=10+5j\n",
        "print(\"type of c:\",type(c))"
      ]
    },
    {
      "cell_type": "code",
      "execution_count": null,
      "metadata": {
        "colab": {
          "base_uri": "https://localhost:8080/"
        },
        "id": "R7clkU9EwLve",
        "outputId": "3fe4a7e5-2f21-4537-adf2-ec64e3aac043"
      },
      "outputs": [
        {
          "name": "stdout",
          "output_type": "stream",
          "text": [
            "addition of two numbers is 30\n",
            "subtraction of two numbers is -10\n",
            "division of two numbers is 0.5\n",
            "multplication of two numbers is 200\n"
          ]
        }
      ],
      "source": [
        "#take 2 inputs and do add,subtract,multiply and divide and print the output\n",
        "a=10\n",
        "b=20\n",
        "add=a+b\n",
        "print(\"addition of two numbers is\",add)\n",
        "sub=a-b\n",
        "print(\"subtraction of two numbers is\",sub)\n",
        "divide=a/b\n",
        "print(\"division of two numbers is\",divide)\n",
        "multiply=a*b\n",
        "print(\"multplication of two numbers is\",multiply)\n"
      ]
    },
    {
      "cell_type": "code",
      "execution_count": null,
      "metadata": {
        "colab": {
          "base_uri": "https://localhost:8080/"
        },
        "id": "93omRivbyI4t",
        "outputId": "50bd076e-26d9-4581-a627-dd5f8dbfee84"
      },
      "outputs": [
        {
          "name": "stdout",
          "output_type": "stream",
          "text": [
            "min is 600\n",
            "km is 3.218688\n"
          ]
        }
      ],
      "source": [
        "#conversion of one unit to another hours into min\n",
        "hours=10\n",
        "min=hours*60\n",
        "print(\"min is\",min)\n",
        "#miles to km\n",
        "n=2\n",
        "km=n*1.609344\n",
        "print(\"km is\",km)\n"
      ]
    },
    {
      "cell_type": "code",
      "execution_count": null,
      "metadata": {
        "colab": {
          "base_uri": "https://localhost:8080/"
        },
        "id": "2IHwhIRezc_q",
        "outputId": "aa27390a-5b10-42fa-ab15-f2b3b2d37505"
      },
      "outputs": [
        {
          "name": "stdout",
          "output_type": "stream",
          "text": [
            "the value of a is 10\n"
          ]
        }
      ],
      "source": [
        "#use of mathematical functions in python\n",
        "import math\n",
        "a=10\n",
        "print(\"the value of a is\", math.floor(a))\n",
        "\n",
        "\n"
      ]
    },
    {
      "cell_type": "code",
      "execution_count": null,
      "metadata": {
        "colab": {
          "base_uri": "https://localhost:8080/"
        },
        "id": "vZxJgGRONAD4",
        "outputId": "e842c441-76a0-468b-efec-2439575ee8bb"
      },
      "outputs": [
        {
          "data": {
            "text/plain": [
              "6"
            ]
          },
          "execution_count": 6,
          "metadata": {},
          "output_type": "execute_result"
        }
      ],
      "source": [
        "import math\n",
        "c=5.3\n",
        "math.ceil(c)"
      ]
    },
    {
      "cell_type": "code",
      "execution_count": null,
      "metadata": {
        "colab": {
          "base_uri": "https://localhost:8080/"
        },
        "id": "jy1kcx7ONKAv",
        "outputId": "d246cd53-5ec8-4027-b2bd-33c57c4dfa1d"
      },
      "outputs": [
        {
          "data": {
            "text/plain": [
              "5.7"
            ]
          },
          "execution_count": 7,
          "metadata": {},
          "output_type": "execute_result"
        }
      ],
      "source": [
        "import math\n",
        "v=-5.7\n",
        "math.fabs(v)"
      ]
    },
    {
      "cell_type": "code",
      "execution_count": null,
      "metadata": {
        "colab": {
          "base_uri": "https://localhost:8080/"
        },
        "id": "MR3ta8wGNUP1",
        "outputId": "5387a29c-19db-412d-95c8-2e7d0590027c"
      },
      "outputs": [
        {
          "data": {
            "text/plain": [
              "5.0"
            ]
          },
          "execution_count": 8,
          "metadata": {},
          "output_type": "execute_result"
        }
      ],
      "source": [
        "import math\n",
        "v=5\n",
        "b=7\n",
        "math.fmod(v,b)"
      ]
    },
    {
      "cell_type": "code",
      "execution_count": null,
      "metadata": {
        "colab": {
          "base_uri": "https://localhost:8080/"
        },
        "id": "Hay9gCtx0Y-Z",
        "outputId": "40f098b0-5653-4aad-a5be-0d1920a9be45"
      },
      "outputs": [
        {
          "name": "stdout",
          "output_type": "stream",
          "text": [
            "Yes\n",
            " not a Perfect Number\n",
            "The number is not a strong number\n"
          ]
        }
      ],
      "source": [
        "#to check palindrome or not\n",
        "x = \"malayalam\"\n",
        "w = \"\"\n",
        "for i in x:\n",
        "    w = i + w\n",
        "if (x == w):\n",
        "    print(\"Yes\")\n",
        "else:\n",
        "    print(\"No\")\n",
        "\n",
        "\n",
        "#to check perfect number or not\n",
        "Number = 4\n",
        "Sum = 0\n",
        "for i in range(1, Number):\n",
        "    if(Number % i == 0):\n",
        "        Sum = Sum + i\n",
        "if (Sum == Number):\n",
        "    print(\" Perfect Number\" )\n",
        "else:\n",
        "    print(\" not a Perfect Number\" )\n",
        "\n",
        "\n",
        "#to check strong number or not\n",
        "vanshika=0\n",
        "num=145\n",
        "temp=num\n",
        "while(num):\n",
        "    i=1\n",
        "    f=1\n",
        "    r=num%10\n",
        "    while(i<=r):\n",
        "        f=f*i\n",
        "        i=i+1\n",
        "    vanshika=vanshika+f\n",
        "    num=num/10\n",
        "if(vanshika==temp):\n",
        "    print(\"The number is a strong number\")\n",
        "else:\n",
        "    print(\"The number is not a strong number\")\n"
      ]
    },
    {
      "cell_type": "code",
      "execution_count": null,
      "metadata": {
        "colab": {
          "base_uri": "https://localhost:8080/"
        },
        "id": "4llQs6xfMMxT",
        "outputId": "ca5552ee-5fdd-4592-cecc-cf565bc5b190"
      },
      "outputs": [
        {
          "name": "stdout",
          "output_type": "stream",
          "text": [
            "Grade: A\n"
          ]
        }
      ],
      "source": [
        "#accepting 5 different subject marks and displaying the grade of the student\n",
        "sub1=13\n",
        "sub2=56\n",
        "sub3=3933\n",
        "sub4=478\n",
        "sub5=67\n",
        "avg=(sub1+sub2+sub3+sub4+sub4)/5\n",
        "if(avg>=90):\n",
        "    print(\"Grade: A\")\n",
        "elif(avg>=80&avg<90):\n",
        "    print(\"Grade: B\")\n",
        "elif(avg>=70&avg<80):\n",
        "    print(\"Grade: C\")\n",
        "elif(avg>=60&avg<70):\n",
        "    print(\"Grade: D\")\n",
        "else:\n",
        "    print(\"Grade: F\")\n"
      ]
    },
    {
      "cell_type": "code",
      "execution_count": null,
      "metadata": {
        "colab": {
          "base_uri": "https://localhost:8080/"
        },
        "id": "sFK_6E_zPDdf",
        "outputId": "36e10595-6cc1-459e-bf09-d488ebff6db2"
      },
      "outputs": [
        {
          "name": "stdout",
          "output_type": "stream",
          "text": [
            "3.43637235966384\n"
          ]
        }
      ],
      "source": [
        "#compute compound interest using loop for a certain interest and principal amount\n",
        "n=2\n",
        "rate=7\n",
        "years=8\n",
        "for i in range(years):\n",
        "  n=n+((n*rate)/100)\n",
        "print(n)\n"
      ]
    },
    {
      "cell_type": "code",
      "execution_count": null,
      "metadata": {
        "colab": {
          "base_uri": "https://localhost:8080/"
        },
        "id": "33COx-w6QNyY",
        "outputId": "53e9b551-5e83-4483-a01e-a101435525b3"
      },
      "outputs": [
        {
          "name": "stdout",
          "output_type": "stream",
          "text": [
            "1\n",
            "factorial\n",
            " sequence:\n",
            "0\n",
            "1\n",
            "1\n",
            "2\n",
            "3\n",
            "5\n",
            "8\n"
          ]
        }
      ],
      "source": [
        "#to find gcd\n",
        "import math\n",
        "print(math.gcd(2,3))\n",
        "\n",
        "\n",
        "\n",
        "#to find factorial of a given number\n",
        "c = 7\n",
        "factorial = 1\n",
        "if c < 0:\n",
        "   print(\" factorial does not exist \")\n",
        "elif c == 0:\n",
        "   print(\"The factorial of 0 is 1\")\n",
        "else:\n",
        "   for i in range(1,c + 1):\n",
        "       factorial = factorial*i\n",
        "   print(\"factorial\")\n",
        "\n",
        "\n",
        "\n",
        "#to find fibonacci upto n numbers\n",
        "f = 7\n",
        "a=0\n",
        "b=1\n",
        "c = 0\n",
        "if f <= 0:\n",
        "   print(\" positive integer\")\n",
        "elif f == 1:\n",
        "   print(\"Fibonacci sequence upto:\")\n",
        "   print(a)\n",
        "else:\n",
        "   print(\" sequence:\")\n",
        "   while c < f:\n",
        "       print(a)\n",
        "       nth = a + b\n",
        "       a = b\n",
        "       b = nth\n",
        "       c += 1\n",
        "\n",
        "   \n"
      ]
    },
    {
      "cell_type": "code",
      "execution_count": null,
      "metadata": {
        "colab": {
          "base_uri": "https://localhost:8080/"
        },
        "id": "zCpklWiCTUqB",
        "outputId": "2f8ab84f-f3e5-4c94-a068-b300fec448a9"
      },
      "outputs": [
        {
          "name": "stdout",
          "output_type": "stream",
          "text": [
            "odd\n",
            "1\n",
            "3\n",
            "5\n",
            "7\n",
            "9\n",
            "11\n",
            "13\n",
            "15\n",
            "4\n",
            "6\n",
            "8\n",
            "10\n",
            "12\n",
            "14\n",
            "16\n",
            "18\n"
          ]
        }
      ],
      "source": [
        "#to print odd numbers and even numbers\n",
        "v=5\n",
        "mod=num%2\n",
        "if mod >0:\n",
        "  print(\"odd\")\n",
        "else:\n",
        "  print(\"even\")\n",
        "\n",
        "\n",
        "#to print odd  in given range\n",
        "a=1\n",
        "b=16\n",
        "for i in range(a,b+1):\n",
        "  if(i%2!=0):\n",
        "    print(i)\n",
        "\n",
        "\n",
        "#to print even numbers in given range\n",
        "c=4\n",
        "m=19\n",
        "for num in range(c,m+1):\n",
        "  if num%2==0:\n",
        "    print(num)\n"
      ]
    },
    {
      "cell_type": "code",
      "execution_count": null,
      "metadata": {
        "colab": {
          "background_save": true
        },
        "id": "a5yZaIiHWq2f",
        "outputId": "22b33d38-304c-4497-d834-13eedbb58c05"
      },
      "outputs": [
        {
          "name": "stdout",
          "output_type": "stream",
          "text": [
            "15\n",
            "-1\n",
            "56\n",
            "0.875\n"
          ]
        }
      ],
      "source": [
        "#mathematical calculator that can perform opeartions\n",
        "a=7\n",
        "j=8\n",
        "print(a+j)\n",
        "print(a-j)\n",
        "print(a*j)"
      ]
    }
  ],
  "metadata": {
    "colab": {
      "name": "module 1  programs",
      "provenance": [],
      "authorship_tag": "ABX9TyMU6492YrJUeiXpsUJUV3Y6",
      "include_colab_link": true
    },
    "kernelspec": {
      "display_name": "Python 3",
      "name": "python3"
    },
    "language_info": {
      "name": "python"
    }
  },
  "nbformat": 4,
  "nbformat_minor": 0
}